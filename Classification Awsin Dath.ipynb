{
 "cells": [
  {
   "cell_type": "code",
   "execution_count": 98,
   "metadata": {
    "id": "FlUlkQxVBZ-P"
   },
   "outputs": [],
   "source": [
    "import pandas as pd\n",
    "import numpy as np\n",
    "import matplotlib.pyplot as plt\n",
    "import seaborn as sns"
   ]
  },
  {
   "cell_type": "code",
   "execution_count": 99,
   "metadata": {
    "id": "YNdNoxquENQl"
   },
   "outputs": [],
   "source": [
    "# READING DATA\n",
    "data = pd.read_csv(r'C:\\Users\\Megha\\OneDrive\\Desktop\\iris1.csv')"
   ]
  },
  {
   "cell_type": "code",
   "execution_count": 100,
   "metadata": {
    "colab": {
     "base_uri": "https://localhost:8080/",
     "height": 206
    },
    "id": "IRAYesEzEXH4",
    "outputId": "8baa3d3d-5f6d-47aa-c50d-84f66c6899f1"
   },
   "outputs": [
    {
     "data": {
      "text/html": [
       "<div>\n",
       "<style scoped>\n",
       "    .dataframe tbody tr th:only-of-type {\n",
       "        vertical-align: middle;\n",
       "    }\n",
       "\n",
       "    .dataframe tbody tr th {\n",
       "        vertical-align: top;\n",
       "    }\n",
       "\n",
       "    .dataframe thead th {\n",
       "        text-align: right;\n",
       "    }\n",
       "</style>\n",
       "<table border=\"1\" class=\"dataframe\">\n",
       "  <thead>\n",
       "    <tr style=\"text-align: right;\">\n",
       "      <th></th>\n",
       "      <th>SL</th>\n",
       "      <th>SW</th>\n",
       "      <th>PL</th>\n",
       "      <th>PW</th>\n",
       "      <th>Classification</th>\n",
       "    </tr>\n",
       "  </thead>\n",
       "  <tbody>\n",
       "    <tr>\n",
       "      <th>0</th>\n",
       "      <td>5.1</td>\n",
       "      <td>3.5</td>\n",
       "      <td>1.4</td>\n",
       "      <td>0.2</td>\n",
       "      <td>Iris-setosa</td>\n",
       "    </tr>\n",
       "    <tr>\n",
       "      <th>1</th>\n",
       "      <td>4.9</td>\n",
       "      <td>3.0</td>\n",
       "      <td>1.4</td>\n",
       "      <td>0.2</td>\n",
       "      <td>Iris-setosa</td>\n",
       "    </tr>\n",
       "    <tr>\n",
       "      <th>2</th>\n",
       "      <td>NaN</td>\n",
       "      <td>3.2</td>\n",
       "      <td>1.3</td>\n",
       "      <td>0.2</td>\n",
       "      <td>Iris-setosa</td>\n",
       "    </tr>\n",
       "    <tr>\n",
       "      <th>3</th>\n",
       "      <td>4.6</td>\n",
       "      <td>3.1</td>\n",
       "      <td>1.5</td>\n",
       "      <td>0.2</td>\n",
       "      <td>Iris-setosa</td>\n",
       "    </tr>\n",
       "    <tr>\n",
       "      <th>4</th>\n",
       "      <td>5.0</td>\n",
       "      <td>3.6</td>\n",
       "      <td>1.4</td>\n",
       "      <td>0.2</td>\n",
       "      <td>Iris-setosa</td>\n",
       "    </tr>\n",
       "  </tbody>\n",
       "</table>\n",
       "</div>"
      ],
      "text/plain": [
       "    SL   SW   PL   PW Classification\n",
       "0  5.1  3.5  1.4  0.2    Iris-setosa\n",
       "1  4.9  3.0  1.4  0.2    Iris-setosa\n",
       "2  NaN  3.2  1.3  0.2    Iris-setosa\n",
       "3  4.6  3.1  1.5  0.2    Iris-setosa\n",
       "4  5.0  3.6  1.4  0.2    Iris-setosa"
      ]
     },
     "execution_count": 100,
     "metadata": {},
     "output_type": "execute_result"
    }
   ],
   "source": [
    "data.head()"
   ]
  },
  {
   "cell_type": "code",
   "execution_count": 101,
   "metadata": {
    "colab": {
     "base_uri": "https://localhost:8080/"
    },
    "id": "gas7bCQ6Ehu0",
    "outputId": "0acc75ec-1dc1-4640-f7ce-07e96d7e8a45"
   },
   "outputs": [
    {
     "data": {
      "text/plain": [
       "(150, 5)"
      ]
     },
     "execution_count": 101,
     "metadata": {},
     "output_type": "execute_result"
    }
   ],
   "source": [
    "data.shape"
   ]
  },
  {
   "cell_type": "code",
   "execution_count": 102,
   "metadata": {
    "colab": {
     "base_uri": "https://localhost:8080/"
    },
    "id": "NnoM6tobEdQw",
    "outputId": "95bc1c20-9bcb-4dc4-967f-9c59e5dc9704"
   },
   "outputs": [
    {
     "name": "stdout",
     "output_type": "stream",
     "text": [
      "<class 'pandas.core.frame.DataFrame'>\n",
      "RangeIndex: 150 entries, 0 to 149\n",
      "Data columns (total 5 columns):\n",
      " #   Column          Non-Null Count  Dtype  \n",
      "---  ------          --------------  -----  \n",
      " 0   SL              143 non-null    float64\n",
      " 1   SW              144 non-null    float64\n",
      " 2   PL              144 non-null    float64\n",
      " 3   PW              150 non-null    float64\n",
      " 4   Classification  150 non-null    object \n",
      "dtypes: float64(4), object(1)\n",
      "memory usage: 6.0+ KB\n"
     ]
    }
   ],
   "source": [
    "data.info()"
   ]
  },
  {
   "cell_type": "code",
   "execution_count": 103,
   "metadata": {
    "colab": {
     "base_uri": "https://localhost:8080/",
     "height": 300
    },
    "id": "3aCH9onlEfy0",
    "outputId": "b9610000-d5dc-49f5-9236-854535b4880f"
   },
   "outputs": [
    {
     "data": {
      "text/html": [
       "<div>\n",
       "<style scoped>\n",
       "    .dataframe tbody tr th:only-of-type {\n",
       "        vertical-align: middle;\n",
       "    }\n",
       "\n",
       "    .dataframe tbody tr th {\n",
       "        vertical-align: top;\n",
       "    }\n",
       "\n",
       "    .dataframe thead th {\n",
       "        text-align: right;\n",
       "    }\n",
       "</style>\n",
       "<table border=\"1\" class=\"dataframe\">\n",
       "  <thead>\n",
       "    <tr style=\"text-align: right;\">\n",
       "      <th></th>\n",
       "      <th>SL</th>\n",
       "      <th>SW</th>\n",
       "      <th>PL</th>\n",
       "      <th>PW</th>\n",
       "    </tr>\n",
       "  </thead>\n",
       "  <tbody>\n",
       "    <tr>\n",
       "      <th>count</th>\n",
       "      <td>143.000000</td>\n",
       "      <td>144.000000</td>\n",
       "      <td>144.000000</td>\n",
       "      <td>150.000000</td>\n",
       "    </tr>\n",
       "    <tr>\n",
       "      <th>mean</th>\n",
       "      <td>5.855944</td>\n",
       "      <td>3.049306</td>\n",
       "      <td>3.756250</td>\n",
       "      <td>1.198667</td>\n",
       "    </tr>\n",
       "    <tr>\n",
       "      <th>std</th>\n",
       "      <td>0.828168</td>\n",
       "      <td>0.430644</td>\n",
       "      <td>1.761306</td>\n",
       "      <td>0.763161</td>\n",
       "    </tr>\n",
       "    <tr>\n",
       "      <th>min</th>\n",
       "      <td>4.300000</td>\n",
       "      <td>2.000000</td>\n",
       "      <td>1.000000</td>\n",
       "      <td>0.100000</td>\n",
       "    </tr>\n",
       "    <tr>\n",
       "      <th>25%</th>\n",
       "      <td>5.100000</td>\n",
       "      <td>2.800000</td>\n",
       "      <td>1.600000</td>\n",
       "      <td>0.300000</td>\n",
       "    </tr>\n",
       "    <tr>\n",
       "      <th>50%</th>\n",
       "      <td>5.800000</td>\n",
       "      <td>3.000000</td>\n",
       "      <td>4.350000</td>\n",
       "      <td>1.300000</td>\n",
       "    </tr>\n",
       "    <tr>\n",
       "      <th>75%</th>\n",
       "      <td>6.400000</td>\n",
       "      <td>3.300000</td>\n",
       "      <td>5.100000</td>\n",
       "      <td>1.800000</td>\n",
       "    </tr>\n",
       "    <tr>\n",
       "      <th>max</th>\n",
       "      <td>7.900000</td>\n",
       "      <td>4.400000</td>\n",
       "      <td>6.900000</td>\n",
       "      <td>2.500000</td>\n",
       "    </tr>\n",
       "  </tbody>\n",
       "</table>\n",
       "</div>"
      ],
      "text/plain": [
       "               SL          SW          PL          PW\n",
       "count  143.000000  144.000000  144.000000  150.000000\n",
       "mean     5.855944    3.049306    3.756250    1.198667\n",
       "std      0.828168    0.430644    1.761306    0.763161\n",
       "min      4.300000    2.000000    1.000000    0.100000\n",
       "25%      5.100000    2.800000    1.600000    0.300000\n",
       "50%      5.800000    3.000000    4.350000    1.300000\n",
       "75%      6.400000    3.300000    5.100000    1.800000\n",
       "max      7.900000    4.400000    6.900000    2.500000"
      ]
     },
     "execution_count": 103,
     "metadata": {},
     "output_type": "execute_result"
    }
   ],
   "source": [
    "data.describe()"
   ]
  },
  {
   "cell_type": "code",
   "execution_count": 104,
   "metadata": {
    "colab": {
     "base_uri": "https://localhost:8080/"
    },
    "id": "VjiX0L6JEmYA",
    "outputId": "1d083712-eaee-478d-db09-0ee220799756"
   },
   "outputs": [
    {
     "data": {
      "text/plain": [
       "SL                7\n",
       "SW                6\n",
       "PL                6\n",
       "PW                0\n",
       "Classification    0\n",
       "dtype: int64"
      ]
     },
     "execution_count": 104,
     "metadata": {},
     "output_type": "execute_result"
    }
   ],
   "source": [
    "data.isnull().sum()"
   ]
  },
  {
   "cell_type": "code",
   "execution_count": 105,
   "metadata": {
    "colab": {
     "base_uri": "https://localhost:8080/",
     "height": 1000
    },
    "id": "ws_3ivSiNQKK",
    "outputId": "748a4434-fbcd-4495-914a-b9ddfa5a6160"
   },
   "outputs": [
    {
     "data": {
      "image/png": "[encoded data removed]",
      "text/plain": [
       "<Figure size 500x500 with 1 Axes>"
      ]
     },
     "metadata": {},
     "output_type": "display_data"
    },
    {
     "data": {
      "image/png": "[encoded data removed]",
      "text/plain": [
       "<Figure size 500x500 with 1 Axes>"
      ]
     },
     "metadata": {},
     "output_type": "display_data"
    },
    {
     "data": {
      "image/png": "[encoded data removed]",
      "text/plain": [
       "<Figure size 500x500 with 1 Axes>"
      ]
     },
     "metadata": {},
     "output_type": "display_data"
    },
    {
     "data": {
      "image/png": "[encoded data removed]",
      "text/plain": [
       "<Figure size 500x500 with 1 Axes>"
      ]
     },
     "metadata": {},
     "output_type": "display_data"
    }
   ],
   "source": [
    "# FILLING MISSING VALUES\n",
    "col = ['SL','SW','PL','PW']\n",
    "for i in col: sns.displot(data = data,x=i, kind='kde')"
   ]
  },
  {
   "cell_type": "code",
   "execution_count": 106,
   "metadata": {
    "id": "bEdsaBCcN2QT"
   },
   "outputs": [],
   "source": [
    "data['SL'] = data['SL'].fillna(data['SL'].mean())\n",
    "data['SW'] = data['SW'].fillna(data['SW'].mean())\n",
    "data['PL'] = data['PL'].fillna(data['PL'].mean())"
   ]
  },
  {
   "cell_type": "code",
   "execution_count": 107,
   "metadata": {
    "colab": {
     "base_uri": "https://localhost:8080/"
    },
    "id": "ydVyhyW6ZqfM",
    "outputId": "502cdb9c-63b4-43f7-9ac7-49a14aa195d0"
   },
   "outputs": [
    {
     "data": {
      "text/plain": [
       "SL                0\n",
       "SW                0\n",
       "PL                0\n",
       "PW                0\n",
       "Classification    0\n",
       "dtype: int64"
      ]
     },
     "execution_count": 107,
     "metadata": {},
     "output_type": "execute_result"
    }
   ],
   "source": [
    "data.isnull().sum()"
   ]
  },
  {
   "cell_type": "code",
   "execution_count": 108,
   "metadata": {
    "colab": {
     "base_uri": "https://localhost:8080/",
     "height": 1000
    },
    "id": "1pUBHs1TZuFC",
    "outputId": "41f9574e-15aa-4bf4-d2bc-91ae0c08ea16"
   },
   "outputs": [
    {
     "data": {
      "image/png": "[encoded data removed]",
      "text/plain": [
       "<Figure size 640x480 with 1 Axes>"
      ]
     },
     "metadata": {},
     "output_type": "display_data"
    },
    {
     "data": {
      "image/png": "[encoded data removed]",
      "text/plain": [
       "<Figure size 640x480 with 1 Axes>"
      ]
     },
     "metadata": {},
     "output_type": "display_data"
    },
    {
     "data": {
      "image/png": "[encoded data removed]",
      "text/plain": [
       "<Figure size 640x480 with 1 Axes>"
      ]
     },
     "metadata": {},
     "output_type": "display_data"
    },
    {
     "data": {
      "image/png": "[encoded data removed]",
      "text/plain": [
       "<Figure size 640x480 with 1 Axes>"
      ]
     },
     "metadata": {},
     "output_type": "display_data"
    }
   ],
   "source": [
    "# CHECKING OUTLINERS\n",
    "num_cols = ['SL','SW','PL','PW']\n",
    "for i in num_cols:\n",
    "  plt.figure()\n",
    "  plt.boxplot(data[i])\n",
    "  plt.title(i)\n"
   ]
  },
  {
   "cell_type": "code",
   "execution_count": 109,
   "metadata": {
    "id": "Y8aCXELNaPE1"
   },
   "outputs": [],
   "source": [
    "# REMOVING OUTLINERS\n",
    "q1 = np.percentile(data['SW'],25,method='midpoint')\n",
    "q2 = np.percentile(data['SW'],50,method='midpoint')\n",
    "q3 = np.percentile(data['SW'],75,method='midpoint')"
   ]
  },
  {
   "cell_type": "code",
   "execution_count": 110,
   "metadata": {
    "id": "et6MFYNtbZ4U"
   },
   "outputs": [],
   "source": [
    "iqr = q3 - q1\n",
    "low_lim = q1 - 1.5*iqr\n",
    "up_lim = q3 + 1.5 *iqr\n",
    "outlier = []\n",
    "for i in data['SW']:\n",
    "  if i < low_lim or i> up_lim:\n",
    "    outlier.append(i)"
   ]
  },
  {
   "cell_type": "code",
   "execution_count": 111,
   "metadata": {
    "colab": {
     "base_uri": "https://localhost:8080/"
    },
    "id": "xeBU6E8-dsEj",
    "outputId": "c6f3331e-f56f-4986-81b9-5674c9f1395b"
   },
   "outputs": [
    {
     "data": {
      "text/plain": [
       "[4.0, 4.4, 4.1, 4.2, 2.0]"
      ]
     },
     "execution_count": 111,
     "metadata": {},
     "output_type": "execute_result"
    }
   ],
   "source": [
    "outlier"
   ]
  },
  {
   "cell_type": "code",
   "execution_count": 112,
   "metadata": {
    "id": "50EnKQuLdwnp"
   },
   "outputs": [],
   "source": [
    "index = data.loc[data['SW']>up_lim].index\n",
    "data.drop([14, 15, 32, 33],inplace = True)"
   ]
  },
  {
   "cell_type": "code",
   "execution_count": 113,
   "metadata": {
    "colab": {
     "base_uri": "https://localhost:8080/"
    },
    "id": "KzY-V7z6iy_w",
    "outputId": "6c7fee26-532b-4656-e980-af5d82d2bf3b"
   },
   "outputs": [
    {
     "data": {
      "text/plain": [
       "Int64Index([60], dtype='int64')"
      ]
     },
     "execution_count": 113,
     "metadata": {},
     "output_type": "execute_result"
    }
   ],
   "source": [
    "data.loc[data['SW']<low_lim].index"
   ]
  },
  {
   "cell_type": "code",
   "execution_count": 114,
   "metadata": {
    "id": "M3C9hOgti4CR"
   },
   "outputs": [],
   "source": [
    "data.drop([60],inplace = True)"
   ]
  },
  {
   "cell_type": "code",
   "execution_count": 115,
   "metadata": {
    "colab": {
     "base_uri": "https://localhost:8080/",
     "height": 430
    },
    "id": "7X3i8w2qjBc7",
    "outputId": "ddc73ca2-d29f-4ce0-8f7d-e3a3de253c87"
   },
   "outputs": [
    {
     "data": {
      "image/png": "[encoded data removed]",
      "text/plain": [
       "<Figure size 640x480 with 1 Axes>"
      ]
     },
     "metadata": {},
     "output_type": "display_data"
    }
   ],
   "source": [
    "plt.figure()\n",
    "plt.boxplot(data['SW'])\n",
    "plt.show()"
   ]
  },
  {
   "cell_type": "code",
   "execution_count": 116,
   "metadata": {
    "id": "TxdOOTdKo3jc"
   },
   "outputs": [],
   "source": [
    "# LABEL ENCODING\n",
    "from sklearn.preprocessing import LabelEncoder\n",
    "le =LabelEncoder()\n",
    "\n",
    "data['Classification'] = le.fit_transform(data['Classification'])\n"
   ]
  },
  {
   "cell_type": "code",
   "execution_count": 117,
   "metadata": {
    "colab": {
     "base_uri": "https://localhost:8080/",
     "height": 206
    },
    "id": "G3N4sm2kp2RJ",
    "outputId": "35fbcec1-91cf-473f-a507-ddcb31b99713"
   },
   "outputs": [
    {
     "data": {
      "text/html": [
       "<div>\n",
       "<style scoped>\n",
       "    .dataframe tbody tr th:only-of-type {\n",
       "        vertical-align: middle;\n",
       "    }\n",
       "\n",
       "    .dataframe tbody tr th {\n",
       "        vertical-align: top;\n",
       "    }\n",
       "\n",
       "    .dataframe thead th {\n",
       "        text-align: right;\n",
       "    }\n",
       "</style>\n",
       "<table border=\"1\" class=\"dataframe\">\n",
       "  <thead>\n",
       "    <tr style=\"text-align: right;\">\n",
       "      <th></th>\n",
       "      <th>SL</th>\n",
       "      <th>SW</th>\n",
       "      <th>PL</th>\n",
       "      <th>PW</th>\n",
       "      <th>Classification</th>\n",
       "    </tr>\n",
       "  </thead>\n",
       "  <tbody>\n",
       "    <tr>\n",
       "      <th>0</th>\n",
       "      <td>5.100000</td>\n",
       "      <td>3.5</td>\n",
       "      <td>1.4</td>\n",
       "      <td>0.2</td>\n",
       "      <td>0</td>\n",
       "    </tr>\n",
       "    <tr>\n",
       "      <th>1</th>\n",
       "      <td>4.900000</td>\n",
       "      <td>3.0</td>\n",
       "      <td>1.4</td>\n",
       "      <td>0.2</td>\n",
       "      <td>0</td>\n",
       "    </tr>\n",
       "    <tr>\n",
       "      <th>2</th>\n",
       "      <td>5.855944</td>\n",
       "      <td>3.2</td>\n",
       "      <td>1.3</td>\n",
       "      <td>0.2</td>\n",
       "      <td>0</td>\n",
       "    </tr>\n",
       "    <tr>\n",
       "      <th>3</th>\n",
       "      <td>4.600000</td>\n",
       "      <td>3.1</td>\n",
       "      <td>1.5</td>\n",
       "      <td>0.2</td>\n",
       "      <td>0</td>\n",
       "    </tr>\n",
       "    <tr>\n",
       "      <th>4</th>\n",
       "      <td>5.000000</td>\n",
       "      <td>3.6</td>\n",
       "      <td>1.4</td>\n",
       "      <td>0.2</td>\n",
       "      <td>0</td>\n",
       "    </tr>\n",
       "  </tbody>\n",
       "</table>\n",
       "</div>"
      ],
      "text/plain": [
       "         SL   SW   PL   PW  Classification\n",
       "0  5.100000  3.5  1.4  0.2               0\n",
       "1  4.900000  3.0  1.4  0.2               0\n",
       "2  5.855944  3.2  1.3  0.2               0\n",
       "3  4.600000  3.1  1.5  0.2               0\n",
       "4  5.000000  3.6  1.4  0.2               0"
      ]
     },
     "execution_count": 117,
     "metadata": {},
     "output_type": "execute_result"
    }
   ],
   "source": [
    "data.head()"
   ]
  },
  {
   "cell_type": "code",
   "execution_count": 118,
   "metadata": {
    "id": "GdP0Q2yqjKkU"
   },
   "outputs": [],
   "source": [
    "# LOGISTIC REGRESSION\n",
    "from sklearn.model_selection import train_test_split\n",
    "from sklearn.linear_model import LogisticRegression"
   ]
  },
  {
   "cell_type": "code",
   "execution_count": 119,
   "metadata": {
    "id": "i5liv4ApnlVn"
   },
   "outputs": [],
   "source": [
    "y = data['Classification']\n",
    "X = data.drop(['Classification'],axis = 1)\n",
    "X_train,X_test,y_train,y_test = train_test_split(X,y, test_size=0.20,random_state =42)"
   ]
  },
  {
   "cell_type": "code",
   "execution_count": 120,
   "metadata": {
    "id": "MYn5C0O-n-Z9"
   },
   "outputs": [],
   "source": [
    "lr =LogisticRegression(max_iter = 250)\n",
    "model = lr.fit(X_train,y_train)\n",
    "y_prediction_lg = model.predict(X_test)"
   ]
  },
  {
   "cell_type": "code",
   "execution_count": 121,
   "metadata": {
    "id": "kUlKeYUIqKiM"
   },
   "outputs": [
    {
     "name": "stdout",
     "output_type": "stream",
     "text": [
      "Accuracy in Logistic Regression = 0.896551724137931\n"
     ]
    }
   ],
   "source": [
    "from sklearn.metrics import accuracy_score, precision_score\n",
    "print('Accuracy in Logistic Regression =',accuracy_score(y_test,y_prediction_lg))"
   ]
  },
  {
   "cell_type": "code",
   "execution_count": 122,
   "metadata": {
    "id": "5H2l-8HIC070"
   },
   "outputs": [],
   "source": [
    "# KNN\n",
    "from sklearn.neighbors import KNeighborsClassifier\n",
    "from sklearn.metrics import confusion_matrix"
   ]
  },
  {
   "cell_type": "code",
   "execution_count": 123,
   "metadata": {
    "id": "Ft7InrFeC2p3"
   },
   "outputs": [],
   "source": [
    "metric_k = []\n",
    "neighbors = np.arange(3,20)"
   ]
  },
  {
   "cell_type": "code",
   "execution_count": 124,
   "metadata": {
    "id": "hWW6rquWC501"
   },
   "outputs": [],
   "source": [
    "for k in neighbors:\n",
    "  classifier =KNeighborsClassifier(n_neighbors=k,metric='euclidean')\n",
    "  model = classifier.fit(X_train,y_train)\n",
    "  y_pred = model.predict(X_test)\n",
    "  acc= accuracy_score(y_test,y_pred)\n",
    "  metric_k.append(acc)"
   ]
  },
  {
   "cell_type": "code",
   "execution_count": 125,
   "metadata": {
    "colab": {
     "base_uri": "https://localhost:8080/"
    },
    "id": "nVB8r0rYC8Gf",
    "outputId": "4e81a5ff-a8b1-464a-c264-5c12b658cfae"
   },
   "outputs": [
    {
     "data": {
      "text/plain": [
       "[0.9310344827586207,\n",
       " 0.9310344827586207,\n",
       " 0.9310344827586207,\n",
       " 0.9310344827586207,\n",
       " 0.9310344827586207,\n",
       " 0.896551724137931,\n",
       " 0.9310344827586207,\n",
       " 0.9310344827586207,\n",
       " 0.9310344827586207,\n",
       " 0.9310344827586207,\n",
       " 0.9310344827586207,\n",
       " 0.8620689655172413,\n",
       " 0.9310344827586207,\n",
       " 0.9310344827586207,\n",
       " 0.9310344827586207,\n",
       " 0.8620689655172413,\n",
       " 0.896551724137931]"
      ]
     },
     "execution_count": 125,
     "metadata": {},
     "output_type": "execute_result"
    }
   ],
   "source": [
    "metric_k"
   ]
  },
  {
   "cell_type": "code",
   "execution_count": 126,
   "metadata": {
    "id": "NBcwBUlOEnCJ"
   },
   "outputs": [
    {
     "name": "stdout",
     "output_type": "stream",
     "text": [
      "Accuracy in KNN model 0.9310344827586207\n"
     ]
    }
   ],
   "source": [
    "classifier =KNeighborsClassifier(n_neighbors=3,metric='euclidean')\n",
    "model = classifier.fit(X_train,y_train)\n",
    "y_pred_knn = model.predict(X_test)\n",
    "acc= accuracy_score(y_test,y_pred_knn)\n",
    "print('Accuracy in KNN model',accuracy_score(y_test,y_pred_knn))"
   ]
  },
  {
   "cell_type": "code",
   "execution_count": 127,
   "metadata": {
    "id": "nbwvtIYw3qW-"
   },
   "outputs": [],
   "source": [
    "#SVM\n",
    "from sklearn.svm import SVC"
   ]
  },
  {
   "cell_type": "code",
   "execution_count": 128,
   "metadata": {
    "id": "mh3eJlyi4-vm"
   },
   "outputs": [
    {
     "name": "stdout",
     "output_type": "stream",
     "text": [
      "Accuracy in SVM model:  0.8620689655172413\n"
     ]
    }
   ],
   "source": [
    "svm_cls = SVC(kernel = 'rbf')\n",
    "svm_model     =svm_cls.fit(X_train,y_train)\n",
    "y_pred_svm = svm_model.predict(X_test)\n",
    "print('Accuracy in SVM model: ',accuracy_score(y_test,y_pred_svm))"
   ]
  },
  {
   "cell_type": "code",
   "execution_count": 129,
   "metadata": {
    "id": "-VhuGAEH5dV1"
   },
   "outputs": [],
   "source": [
    "# DECISION TREE\n",
    "from sklearn.tree import DecisionTreeClassifier"
   ]
  },
  {
   "cell_type": "code",
   "execution_count": 130,
   "metadata": {
    "id": "Byni-57Wtonb"
   },
   "outputs": [
    {
     "name": "stdout",
     "output_type": "stream",
     "text": [
      "Accuracy in Decision Tree model : 0.896551724137931\n"
     ]
    }
   ],
   "source": [
    "dt_cls = DecisionTreeClassifier()\n",
    "dt_model = dt_cls.fit(X_train,y_train)\n",
    "y_pred_dt = dt_model.predict(X_test)\n",
    "print('Accuracy in Decision Tree model :', accuracy_score(y_test,y_pred_dt))"
   ]
  },
  {
   "cell_type": "code",
   "execution_count": 131,
   "metadata": {
    "id": "VL6R_XvStwj0"
   },
   "outputs": [],
   "source": [
    "# RANDOM FOREST\n",
    "from sklearn.ensemble import RandomForestClassifier"
   ]
  },
  {
   "cell_type": "code",
   "execution_count": 132,
   "metadata": {
    "id": "ZX6bHJAst60M"
   },
   "outputs": [
    {
     "name": "stdout",
     "output_type": "stream",
     "text": [
      "Accuracy in Random Forest: 0.896551724137931\n"
     ]
    }
   ],
   "source": [
    "rf_cls = RandomForestClassifier(n_estimators=12,random_state=42)\n",
    "model = rf_cls.fit(X_train,y_train)\n",
    "y_pred_rf = model.predict(X_test)\n",
    "print('Accuracy in Random Forest:',accuracy_score(y_test,y_pred_rf))"
   ]
  },
  {
   "cell_type": "code",
   "execution_count": 133,
   "metadata": {
    "colab": {
     "base_uri": "https://localhost:8080/"
    },
    "id": "Rz32oZcGt9aL",
    "outputId": "23f26af1-a03a-410d-b22e-6928b5c3e3f1"
   },
   "outputs": [
    {
     "name": "stdout",
     "output_type": "stream",
     "text": [
      "Accuracy in Logistic Regression = 0.896551724137931\n",
      "Accuracy in KNN model 0.9310344827586207\n",
      "Accuracy in SVM model:  0.8620689655172413\n",
      "Accuracy in Decision Tree model : 0.896551724137931\n",
      "Accuracy in Random Forest: 0.896551724137931\n"
     ]
    }
   ],
   "source": [
    "# COMPARISON\n",
    "print('Accuracy in Logistic Regression =',accuracy_score(y_test,y_prediction_lg))\n",
    "print('Accuracy in KNN model',accuracy_score(y_test,y_pred_knn))\n",
    "print('Accuracy in SVM model: ',accuracy_score(y_test,y_pred_svm))\n",
    "print('Accuracy in Decision Tree model :', accuracy_score(y_test,y_pred_dt))\n",
    "print('Accuracy in Random Forest:',accuracy_score(y_test,y_pred_rf))"
   ]
  },
  {
   "cell_type": "code",
   "execution_count": 134,
   "metadata": {},
   "outputs": [],
   "source": [
    "# KNN model has the highest accuracy, with a score of approximately 93.10%."
   ]
  }
 ],
 "metadata": {
  "colab": {
   "provenance": []
  },
  "kernelspec": {
   "display_name": "Python 3 (ipykernel)",
   "language": "python",
   "name": "python3"
  },
  "language_info": {
   "codemirror_mode": {
    "name": "ipython",
    "version": 3
   },
   "file_extension": ".py",
   "mimetype": "text/x-python",
   "name": "python",
   "nbconvert_exporter": "python",
   "pygments_lexer": "ipython3",
   "version": "3.11.3"
  }
 },
 "nbformat": 4,
 "nbformat_minor": 1
}
